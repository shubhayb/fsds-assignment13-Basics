{
 "cells": [
  {
   "cell_type": "markdown",
   "id": "2924e3d8-54df-4a6f-b6bc-b9cfb0e5e976",
   "metadata": {},
   "source": [
    "1. What advantages do Excel spreadsheets have over CSV spreadsheets?\n",
    "\n",
    "Ans :\n",
    "It is a binary file that holds information about all the worksheets in a workbook\n",
    "An Excel not only stores data but can also do operations on the data\n",
    "Files saved in excel cannot be opened or edited by text editors\n",
    "large files user is much easier in Excel for the end user. Also, you can have additional functions like selecting individual cells for import, convert dates and time automatically, reading formulas and their results, filters, sorting, etc\n",
    "Apart from text, data can also be stored in form of charts and graphs\n",
    "Excel can connect to external data sources to fetch data. You can use custom add-in in Excel to increase its functionality.\n",
    "Excel allows for Review of Data with detailed tracking and commenting feature\n",
    "In Excel, spreadsheets can have values of data types other than strings; cells can have different fonts, sizes, or color settings; cells can have varying widths and heights; adjacent cells can be merged"
   ]
  },
  {
   "cell_type": "markdown",
   "id": "2136a045-d829-4d79-acb7-52cba5b1c0b6",
   "metadata": {
    "jp-MarkdownHeadingCollapsed": true,
    "tags": []
   },
   "source": [
    "# 2.What do you pass to csv.reader() and csv.writer() to create reader and writer objects?\n",
    "# Ans : First, call open() and pass it 'w' to open a file in write mode ❶. \n",
    "This will create the object you can then pass to csv. writer() ❷ to create a Writer object. On Windows, you'll also need to pass a blank string for the open() function's newline keyword argument.\n",
    "\n"
   ]
  },
  {
   "cell_type": "markdown",
   "id": "1b78aaf7-9d88-48a4-90bb-cb673322b11d",
   "metadata": {},
   "source": [
    "3. What modes do File objects for reader and writer objects need to be opened in?\n",
    "\n",
    " Ans : Mode\tDescription\n",
    "'r'\tOpen a file for reading. (default)\n",
    "'w'\tOpen a file for writing. Creates a new file if it does not exist or truncates the file if it exists.\n",
    "'x'\tOpen a file for exclusive creation. If the file already exists, the operation fails."
   ]
  },
  {
   "cell_type": "markdown",
   "id": "798e7c22-c655-42a1-b36c-f56a83721863",
   "metadata": {},
   "source": [
    " 4. What method takes a list argument and writes it to a CSV file?\n",
    "    \n",
    "    Ans : One popular usage of the writerow() method is using it to write the field row of your CSV file.01-Mar-2023"
   ]
  },
  {
   "cell_type": "markdown",
   "id": "fac6d87b-c13c-4b31-9c4a-b4be3900f7b2",
   "metadata": {},
   "source": [
    "5. What do the keyword arguments delimiter and line terminator do?\n",
    "\n",
    "Ans : The delimiter is the character that appears between cells on a row. By default, the delimiter for a CSV file is a comma. The line terminator is the character that comes at the end of a row. By default, the line terminator is a newline.\n"
   ]
  },
  {
   "cell_type": "markdown",
   "id": "3d0b5bf9-7771-449c-8da9-e8a6cde03cc8",
   "metadata": {},
   "source": [
    "6. What function takes a string of JSON data and returns a Python data structure?\n",
    "\n",
    "Ans : loads() method return Python data structure of JSON string or data."
   ]
  },
  {
   "cell_type": "markdown",
   "id": "281e11ea-89ad-4177-bbce-493115671e4e",
   "metadata": {},
   "source": [
    "7. What function takes a Python data structure and returns a string of JSON data?"
   ]
  }
 ],
 "metadata": {
  "kernelspec": {
   "display_name": "Python 3 (ipykernel)",
   "language": "python",
   "name": "python3"
  },
  "language_info": {
   "codemirror_mode": {
    "name": "ipython",
    "version": 3
   },
   "file_extension": ".py",
   "mimetype": "text/x-python",
   "name": "python",
   "nbconvert_exporter": "python",
   "pygments_lexer": "ipython3",
   "version": "3.10.6"
  },
  "toc-autonumbering": true,
  "toc-showcode": true,
  "toc-showmarkdowntxt": true
 },
 "nbformat": 4,
 "nbformat_minor": 5
}
